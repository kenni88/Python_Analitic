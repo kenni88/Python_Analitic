{
 "cells": [
  {
   "cell_type": "markdown",
   "metadata": {},
   "source": [
    "1.1 Соедините два словаря в один\n",
    "1.2 Напишите функцию, которая на вход принимает2 словаря и возвращает один объединенный словарь.\n",
    "Используйте аннотирование типов."
   ]
  },
  {
   "cell_type": "code",
   "execution_count": 3,
   "metadata": {},
   "outputs": [],
   "source": [
    "dict1 = {'One': 1, 'Two': 2, 'Three': 3}\n",
    "dict2 = {'Four': 4, 'Five': 5, 'Six': 6}"
   ]
  },
  {
   "cell_type": "markdown",
   "metadata": {},
   "source": [
    "## Task1\n",
    "### 1.1"
   ]
  },
  {
   "cell_type": "code",
   "execution_count": 4,
   "metadata": {},
   "outputs": [
    {
     "name": "stdout",
     "output_type": "stream",
     "text": [
      "{'One': 1, 'Two': 2, 'Three': 3, 'Four': 4, 'Five': 5, 'Six': 6}\n"
     ]
    }
   ],
   "source": [
    "dict1.update(dict2)\n",
    "print(dict1)"
   ]
  },
  {
   "cell_type": "code",
   "execution_count": 5,
   "metadata": {},
   "outputs": [
    {
     "data": {
      "text/plain": [
       "{'One': 1, 'Two': 2, 'Three': 3, 'Four': 4, 'Five': 5, 'Six': 6}"
      ]
     },
     "execution_count": 5,
     "metadata": {},
     "output_type": "execute_result"
    }
   ],
   "source": [
    "def merge(dict1: dict, dict2: dict) -> dict:\n",
    "    res_dict = {}\n",
    "    res_dict.update(dict1)\n",
    "    res_dict.update(dict2)\n",
    "    return res_dict\n",
    "\n",
    "merge(dict1, dict2)"
   ]
  },
  {
   "cell_type": "markdown",
   "metadata": {},
   "source": [
    "Напишите функцию, которая из двух списков делает один словарь, где элементы из первого списка - ключи, а из второго списка - значения. Используйте аннотирование типов.\n",
    "2.1 Используйте цикл for\n",
    "2.2 Используйте dict comprehensions"
   ]
  },
  {
   "cell_type": "code",
   "execution_count": 18,
   "metadata": {},
   "outputs": [],
   "source": [
    "keys = ['One', 'Two', 'Three']\n",
    "values = [1, 2, 3]"
   ]
  },
  {
   "cell_type": "code",
   "execution_count": 21,
   "metadata": {},
   "outputs": [],
   "source": [
    "def gen_dict1(keys: list, values: list) -> dict:\n",
    "    res_dict = {}\n",
    "    for i in range(len(keys)):\n",
    "        res_dict[keys[i]] = values[i]\n",
    "    return res_dict    \n",
    "\n",
    "def gen_dict2(keys: list, values: list) -> dict:\n",
    "    return {keys[i]:values[i] for i in range(len(keys))}\n",
    "\n",
    "def gen_dict3(keys: list, values: list) -> dict:\n",
    "    return {k:v for k, v in zip(keys, values)}"
   ]
  },
  {
   "cell_type": "code",
   "execution_count": 22,
   "metadata": {},
   "outputs": [
    {
     "name": "stdout",
     "output_type": "stream",
     "text": [
      "{'One': 1, 'Two': 2, 'Three': 3}\n",
      "{'One': 1, 'Two': 2, 'Three': 3}\n",
      "{'One': 1, 'Two': 2, 'Three': 3}\n"
     ]
    }
   ],
   "source": [
    "print(gen_dict1(keys, values))\n",
    "print(gen_dict2(keys, values))\n",
    "print(gen_dict3(keys, values))"
   ]
  },
  {
   "cell_type": "markdown",
   "metadata": {},
   "source": [
    "Извлеките только два ключа name и age из представленного словаря.\n",
    "3.1 Напишите функцию с циклом for.\n",
    "Функция на вход принимает: исходный словарь, ключи, которые надо извлечь (аргументы по умолчанию). \n",
    "На выходе-словарь с нужными ключами. Используйте аннотирование типов.\n",
    "3.2 Используйте dict comprehinsions"
   ]
  },
  {
   "cell_type": "code",
   "execution_count": 23,
   "metadata": {},
   "outputs": [],
   "source": [
    "client_dict = {\n",
    "    'name': \"John\",\n",
    "    'age': 'age',\n",
    "    'salary': 5000,\n",
    "    'city': 'Moscow'\n",
    "}"
   ]
  },
  {
   "cell_type": "code",
   "execution_count": 24,
   "metadata": {},
   "outputs": [
    {
     "name": "stdout",
     "output_type": "stream",
     "text": [
      "{'name': 'John', 'age': 'age'}\n",
      "{'city': 'Moscow'}\n",
      "{'name': 'John'}\n"
     ]
    }
   ],
   "source": [
    "def get_key(client_dict: dict, keys: list=['name','age']) -> dict:\n",
    "    res = dict()\n",
    "    for k in client_dict:\n",
    "        if k in keys:\n",
    "            res[k] = client_dict[k]\n",
    "    return res   \n",
    "\n",
    "print(get_key(client_dict))\n",
    "print(get_key(client_dict, ['city']))\n",
    "print(get_key(client_dict, ['salery', 'name']))    "
   ]
  },
  {
   "cell_type": "code",
   "execution_count": 25,
   "metadata": {},
   "outputs": [
    {
     "name": "stdout",
     "output_type": "stream",
     "text": [
      "{'name': 'John', 'age': 'age'}\n",
      "{'city': 'Moscow'}\n",
      "{'name': 'John'}\n"
     ]
    }
   ],
   "source": [
    "def get_key(client_dict: dict, keys: list=['name','age']) -> dict:\n",
    "    return {k: client_dict[k] for k in client_dict if k in keys}\n",
    "\n",
    "print(get_key(client_dict))\n",
    "print(get_key(client_dict, ['city']))\n",
    "print(get_key(client_dict, ['salery', 'name'])) "
   ]
  },
  {
   "cell_type": "markdown",
   "metadata": {},
   "source": [
    "4.1 Сгенерируйте случайные числа от 0 до 100 в количестве 5 штук с помощью модуля random.\n",
    "* Зафиксируйте псевдогенерацию, чтобы сгенерированные значения всегда были одинаковые\n",
    "* Используйте list comprehensions"
   ]
  },
  {
   "cell_type": "code",
   "execution_count": 26,
   "metadata": {},
   "outputs": [
    {
     "data": {
      "text/plain": [
       "[79, 32, 94, 45, 88]"
      ]
     },
     "execution_count": 26,
     "metadata": {},
     "output_type": "execute_result"
    }
   ],
   "source": [
    "import random\n",
    "random.seed(5)\n",
    "\n",
    "[random.randint(0, 100) for i in range(5)]"
   ]
  },
  {
   "cell_type": "markdown",
   "metadata": {},
   "source": [
    "5.1 Найдите картинку в интернете и прикрепите её в ячейку с текстом.\n",
    "5.2 Создайте следующую таблицу в ячейке с текстом."
   ]
  },
  {
   "cell_type": "markdown",
   "metadata": {},
   "source": [
    "<img src=https://sportishka.com/uploads/posts/2022-11/1667556106_56-sportishka-com-p-samoe-chistoe-more-v-mire-krasivo-59.jpg\n",
    "width = 500>"
   ]
  },
  {
   "cell_type": "markdown",
   "metadata": {},
   "source": [
    "<table>\n",
    "    <tr>\n",
    "        <td></td>\n",
    "        <td>До события</td>\n",
    "        <td>Во время события</td>\n",
    "    </tr>\n",
    "    <tr>\n",
    "        <td>1 КТ</td>\n",
    "        <td>250</td>\n",
    "        <td>500</td>\n",
    "    </tr>\n",
    "     <tr>\n",
    "        <td>2 КТ</td>\n",
    "        <td>350</td>\n",
    "        <td>700</td>\n",
    "    </tr>\n",
    "     <tr>\n",
    "        <td>3 КТ</td>\n",
    "        <td>400</td>\n",
    "        <td>800</td>\n",
    "    </tr>\n",
    "     <tr>\n",
    "        <td>Итого за победу</td>\n",
    "        <td>1000</td>\n",
    "        <td>2000</td>\n",
    "    </tr>\n",
    "\n",
    "\n",
    "</table>"
   ]
  },
  {
   "cell_type": "markdown",
   "metadata": {},
   "source": [
    "Напишите функцию, которая может принимать любое количество трат пользователя и считать сумму и среднее. На вход поступают целочисленные значения в любом количестве. На выходе словарь с ключами суммы трат и средней суммы."
   ]
  },
  {
   "cell_type": "code",
   "execution_count": 1,
   "metadata": {},
   "outputs": [
    {
     "data": {
      "text/plain": [
       "{'sum': 12, 'mean': 4.0}"
      ]
     },
     "execution_count": 1,
     "metadata": {},
     "output_type": "execute_result"
    }
   ],
   "source": [
    "def calc(*args):\n",
    "    summ = sum(args)\n",
    "    meann = summ/ len(args)\n",
    "    return {'sum': summ,\n",
    "            'mean': meann}\n",
    "\n",
    "calc(1, 5, 6)"
   ]
  },
  {
   "cell_type": "code",
   "execution_count": 3,
   "metadata": {},
   "outputs": [
    {
     "name": "stdout",
     "output_type": "stream",
     "text": [
      "23\n"
     ]
    }
   ],
   "source": [
    "def total_fruits(**kwargs):\n",
    "    summ = sum(kwargs.values())\n",
    "    return summ\n",
    "\n",
    "print(total_fruits(apples=10, bananas=5, oranges=8))"
   ]
  },
  {
   "cell_type": "code",
   "execution_count": 6,
   "metadata": {},
   "outputs": [
    {
     "name": "stdout",
     "output_type": "stream",
     "text": [
      "{'11': 100}\n"
     ]
    }
   ],
   "source": [
    "def calc_income_by_month(dates: list, incomes: list) -> dict:\n",
    "    calc_income_by_month = {}\n",
    "    for i in range(len(dates)):\n",
    "        if dates[i].split('-')[1] in calc_income_by_month.keys():\n",
    "            calc_income_by_month[dates[i].split('-')[1]] += incomes[i]\n",
    "        else:\n",
    "            calc_income_by_month[dates[i].split('-')[1]] = incomes[i]\n",
    "\n",
    "    return calc_income_by_month   \n",
    "\n",
    "print(calc_income_by_month(dates = ['2021-11-01'], incomes = [100]))     "
   ]
  }
 ],
 "metadata": {
  "kernelspec": {
   "display_name": "Python 3",
   "language": "python",
   "name": "python3"
  },
  "language_info": {
   "codemirror_mode": {
    "name": "ipython",
    "version": 3
   },
   "file_extension": ".py",
   "mimetype": "text/x-python",
   "name": "python",
   "nbconvert_exporter": "python",
   "pygments_lexer": "ipython3",
   "version": "3.11.9"
  }
 },
 "nbformat": 4,
 "nbformat_minor": 2
}
